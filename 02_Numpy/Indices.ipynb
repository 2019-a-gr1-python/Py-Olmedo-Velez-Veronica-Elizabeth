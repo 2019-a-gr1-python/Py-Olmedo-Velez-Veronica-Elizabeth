{
 "cells": [
  {
   "cell_type": "markdown",
   "metadata": {},
   "source": [
    "# Indices "
   ]
  },
  {
   "cell_type": "code",
   "execution_count": 1,
   "metadata": {},
   "outputs": [],
   "source": [
    "import numpy as np "
   ]
  },
  {
   "cell_type": "code",
   "execution_count": 4,
   "metadata": {},
   "outputs": [],
   "source": [
    "numeros = np.arange(11)**2  "
   ]
  },
  {
   "cell_type": "code",
   "execution_count": 5,
   "metadata": {},
   "outputs": [
    {
     "data": {
      "text/plain": [
       "array([  0,   1,   4,   9,  16,  25,  36,  49,  64,  81, 100])"
      ]
     },
     "execution_count": 5,
     "metadata": {},
     "output_type": "execute_result"
    }
   ],
   "source": [
    "numeros "
   ]
  },
  {
   "cell_type": "code",
   "execution_count": 8,
   "metadata": {},
   "outputs": [],
   "source": [
    "indeces = [2,5,7] "
   ]
  },
  {
   "cell_type": "code",
   "execution_count": 9,
   "metadata": {},
   "outputs": [
    {
     "data": {
      "text/plain": [
       "array([ 4, 25, 49])"
      ]
     },
     "execution_count": 9,
     "metadata": {},
     "output_type": "execute_result"
    }
   ],
   "source": [
    "numeros [indeces] "
   ]
  },
  {
   "cell_type": "code",
   "execution_count": 11,
   "metadata": {},
   "outputs": [],
   "source": [
    "arreglo_frutas = np.array ([['Piña','Manzana','Pera','Melon'],\n",
    "                           ['Pera','Uva','Naranja','Papaya'],\n",
    "                           ['Frutilla','Platano','Granadilla','Sandia']])\n"
   ]
  },
  {
   "cell_type": "code",
   "execution_count": 12,
   "metadata": {},
   "outputs": [
    {
     "data": {
      "text/plain": [
       "(3, 4)"
      ]
     },
     "execution_count": 12,
     "metadata": {},
     "output_type": "execute_result"
    }
   ],
   "source": [
    "arreglo_frutas.shape "
   ]
  },
  {
   "cell_type": "code",
   "execution_count": 23,
   "metadata": {},
   "outputs": [],
   "source": [
    "arreglo_fila = np.array([\n",
    "                           [0,0],\n",
    "                           [1,1],\n",
    "                           [2,2],\n",
    "                          ])"
   ]
  },
  {
   "cell_type": "code",
   "execution_count": 24,
   "metadata": {},
   "outputs": [],
   "source": [
    "arreglo_columnas = np.array([\n",
    "                                [1,3],\n",
    "                                [1,2],\n",
    "                                [0,2],\n",
    "                             ])"
   ]
  },
  {
   "cell_type": "code",
   "execution_count": 26,
   "metadata": {},
   "outputs": [],
   "source": [
    "arreglo_frutas = np.array ([['Piña','Manzana','Pera','Melon'],\n",
    "                           ['Pera','Uva','Naranja','Papaya'],\n",
    "                           ['Frutilla','Platano','Granadilla','Sandia']])"
   ]
  },
  {
   "cell_type": "code",
   "execution_count": 27,
   "metadata": {},
   "outputs": [
    {
     "data": {
      "text/plain": [
       "array([['Manzana', 'Melon'],\n",
       "       ['Uva', 'Naranja'],\n",
       "       ['Frutilla', 'Granadilla']], dtype='<U10')"
      ]
     },
     "execution_count": 27,
     "metadata": {},
     "output_type": "execute_result"
    }
   ],
   "source": [
    "arreglo_frutas[arreglo_fila,arreglo_columnas] "
   ]
  },
  {
   "cell_type": "code",
   "execution_count": 28,
   "metadata": {},
   "outputs": [],
   "source": [
    "arreglo_fila = np.array([\n",
    "                           [0,0],\n",
    "                           [1,1],\n",
    "                           [2,2],\n",
    "                          ])\n",
    "\n",
    "arreglo_columnas = np.array([\n",
    "                                [2,3],\n",
    "                                [2,3],\n",
    "                                [2,3],\n",
    "                             ]) "
   ]
  },
  {
   "cell_type": "code",
   "execution_count": 30,
   "metadata": {},
   "outputs": [
    {
     "data": {
      "text/plain": [
       "array([['Pera', 'Melon'],\n",
       "       ['Naranja', 'Papaya'],\n",
       "       ['Granadilla', 'Sandia']], dtype='<U10')"
      ]
     },
     "execution_count": 30,
     "metadata": {},
     "output_type": "execute_result"
    }
   ],
   "source": [
    "arreglo_frutas [arreglo_fila,arreglo_columnas] "
   ]
  },
  {
   "cell_type": "code",
   "execution_count": 31,
   "metadata": {},
   "outputs": [],
   "source": [
    "arreglo_fruta = np.array ([['Piña','Manzana','Pera'],\n",
    "                           ['Pera','Uva','Naranja'],\n",
    "                           ['Frutilla','Platano','Granadilla'],\n",
    "                           ['Melon','Platano','Granadilla']])"
   ]
  },
  {
   "cell_type": "code",
   "execution_count": 32,
   "metadata": {},
   "outputs": [
    {
     "data": {
      "text/plain": [
       "array([['Piña', 'Manzana', 'Pera'],\n",
       "       ['Pera', 'Uva', 'Naranja'],\n",
       "       ['Frutilla', 'Platano', 'Granadilla'],\n",
       "       ['Melon', 'Platano', 'Granadilla']], dtype='<U10')"
      ]
     },
     "execution_count": 32,
     "metadata": {},
     "output_type": "execute_result"
    }
   ],
   "source": [
    "arreglo_fruta"
   ]
  },
  {
   "cell_type": "code",
   "execution_count": 33,
   "metadata": {},
   "outputs": [],
   "source": [
    "arreglo_fila = np.array([\n",
    "                           [0,0],\n",
    "                           [1,1],\n",
    "                           [2,2],\n",
    "                          ])\n",
    "\n",
    "arreglo_columnas = np.array([\n",
    "                            [2,3],\n",
    "                            [2,3],\n",
    "                            [2,3],\n",
    "                             ]) "
   ]
  },
  {
   "cell_type": "code",
   "execution_count": 34,
   "metadata": {},
   "outputs": [
    {
     "data": {
      "text/plain": [
       "array([['Piña', 'Pera'],\n",
       "       ['Pera', 'Naranja'],\n",
       "       ['Frutilla', 'Granadilla'],\n",
       "       ['Melon', 'Granadilla']], dtype='<U10')"
      ]
     },
     "execution_count": 34,
     "metadata": {},
     "output_type": "execute_result"
    }
   ],
   "source": [
    "arreglo_fruta [arreglo_fila,arreglo_columnas] "
   ]
  },
  {
   "cell_type": "code",
   "execution_count": 53,
   "metadata": {},
   "outputs": [],
   "source": [
    "arreglo_fruta2 = np.array ([['Piñas','Manzana','Pera','Naranja'],\n",
    "                           ['Pera','Uva','Naranja','Melo'],\n",
    "                           ['Frutilla','Platano','Granadilla','Sandia'],\n",
    "                           ['Melon','Platano','Granadilla','Limon'],\n",
    "                           ['Piña','Manzana','Pera','Naranja'],\n",
    "                           ['Pera','Uva','Naranja','Melo'],\n",
    "                          ])"
   ]
  },
  {
   "cell_type": "code",
   "execution_count": 54,
   "metadata": {},
   "outputs": [],
   "source": [
    "arreglo_fruta2.shape = (3,4,2) "
   ]
  },
  {
   "cell_type": "code",
   "execution_count": 55,
   "metadata": {},
   "outputs": [
    {
     "data": {
      "text/plain": [
       "array([[['Piñas', 'Manzana'],\n",
       "        ['Pera', 'Naranja'],\n",
       "        ['Pera', 'Uva'],\n",
       "        ['Naranja', 'Melo']],\n",
       "\n",
       "       [['Frutilla', 'Platano'],\n",
       "        ['Granadilla', 'Sandia'],\n",
       "        ['Melon', 'Platano'],\n",
       "        ['Granadilla', 'Limon']],\n",
       "\n",
       "       [['Piña', 'Manzana'],\n",
       "        ['Pera', 'Naranja'],\n",
       "        ['Pera', 'Uva'],\n",
       "        ['Naranja', 'Melo']]], dtype='<U10')"
      ]
     },
     "execution_count": 55,
     "metadata": {},
     "output_type": "execute_result"
    }
   ],
   "source": [
    "arreglo_fruta2 "
   ]
  },
  {
   "cell_type": "code",
   "execution_count": 49,
   "metadata": {},
   "outputs": [],
   "source": []
  },
  {
   "cell_type": "code",
   "execution_count": 56,
   "metadata": {},
   "outputs": [
    {
     "data": {
      "text/plain": [
       "'Piñas'"
      ]
     },
     "execution_count": 56,
     "metadata": {},
     "output_type": "execute_result"
    }
   ],
   "source": [
    "arreglo_fruta2 [0][0][0]  "
   ]
  },
  {
   "cell_type": "code",
   "execution_count": 60,
   "metadata": {},
   "outputs": [
    {
     "data": {
      "text/plain": [
       "'Melo'"
      ]
     },
     "execution_count": 60,
     "metadata": {},
     "output_type": "execute_result"
    }
   ],
   "source": [
    "arreglo_fruta2 [0][3][1] "
   ]
  },
  {
   "cell_type": "code",
   "execution_count": 74,
   "metadata": {},
   "outputs": [
    {
     "data": {
      "text/plain": [
       "array([['Piñas', 'Manzana'],\n",
       "       ['Piñas', 'Manzana']], dtype='<U10')"
      ]
     },
     "execution_count": 74,
     "metadata": {},
     "output_type": "execute_result"
    }
   ],
   "source": [
    "arreglo_fruta2 [0][[0,0]][[0,1]] "
   ]
  },
  {
   "cell_type": "code",
   "execution_count": 70,
   "metadata": {},
   "outputs": [
    {
     "data": {
      "text/plain": [
       "array(['Piña', 'Manzana'], dtype='<U10')"
      ]
     },
     "execution_count": 70,
     "metadata": {},
     "output_type": "execute_result"
    }
   ],
   "source": [
    "arreglo_frutas[np.array([0]),np.array([0,1])] "
   ]
  },
  {
   "cell_type": "code",
   "execution_count": 79,
   "metadata": {},
   "outputs": [
    {
     "data": {
      "text/plain": [
       "array(['Piñas', 'Naranja'], dtype='<U10')"
      ]
     },
     "execution_count": 79,
     "metadata": {},
     "output_type": "execute_result"
    }
   ],
   "source": [
    "arreglo_fruta2[np.array([0]),np.array([0,1]),np.array([0,1])]  "
   ]
  },
  {
   "cell_type": "code",
   "execution_count": 80,
   "metadata": {},
   "outputs": [],
   "source": [
    "primer_dimension = np.array (\n",
    "                            [0,0,0]\n",
    "                           )\n",
    "\n",
    "segunda_dimension = np.array (\n",
    "                            [0,0,0]\n",
    "                            )\n",
    "\n",
    "tercera_dimension = np.array (\n",
    "                            [0,1,0]\n",
    "                            )"
   ]
  },
  {
   "cell_type": "code",
   "execution_count": 81,
   "metadata": {},
   "outputs": [
    {
     "data": {
      "text/plain": [
       "array(['Piñas', 'Manzana', 'Piñas'], dtype='<U10')"
      ]
     },
     "execution_count": 81,
     "metadata": {},
     "output_type": "execute_result"
    }
   ],
   "source": [
    "arreglo_fruta2[primer_dimension,segunda_dimension,tercera_dimension] "
   ]
  },
  {
   "cell_type": "code",
   "execution_count": 82,
   "metadata": {},
   "outputs": [],
   "source": [
    "arreglo_fruta2[primer_dimension,segunda_dimension,tercera_dimension] ='Nika'"
   ]
  },
  {
   "cell_type": "code",
   "execution_count": 83,
   "metadata": {},
   "outputs": [
    {
     "data": {
      "text/plain": [
       "array([[['Nika', 'Nika'],\n",
       "        ['Pera', 'Naranja'],\n",
       "        ['Pera', 'Uva'],\n",
       "        ['Naranja', 'Melo']],\n",
       "\n",
       "       [['Frutilla', 'Platano'],\n",
       "        ['Granadilla', 'Sandia'],\n",
       "        ['Melon', 'Platano'],\n",
       "        ['Granadilla', 'Limon']],\n",
       "\n",
       "       [['Piña', 'Manzana'],\n",
       "        ['Pera', 'Naranja'],\n",
       "        ['Pera', 'Uva'],\n",
       "        ['Naranja', 'Melo']]], dtype='<U10')"
      ]
     },
     "execution_count": 83,
     "metadata": {},
     "output_type": "execute_result"
    }
   ],
   "source": [
    "arreglo_fruta2 "
   ]
  },
  {
   "cell_type": "code",
   "execution_count": 90,
   "metadata": {},
   "outputs": [],
   "source": [
    "arreglo_diez = np.arange(10)  "
   ]
  },
  {
   "cell_type": "code",
   "execution_count": 91,
   "metadata": {},
   "outputs": [],
   "source": [
    "arreglo_mayor = arreglo_diez > 5 "
   ]
  },
  {
   "cell_type": "code",
   "execution_count": 92,
   "metadata": {},
   "outputs": [
    {
     "data": {
      "text/plain": [
       "array([6, 7, 8, 9])"
      ]
     },
     "execution_count": 92,
     "metadata": {},
     "output_type": "execute_result"
    }
   ],
   "source": [
    "arreglo_diez [arreglo_mayor] "
   ]
  },
  {
   "cell_type": "code",
   "execution_count": 94,
   "metadata": {},
   "outputs": [
    {
     "ename": "TypeError",
     "evalue": "'arreglo_fruta' is an invalid keyword argument for print()",
     "output_type": "error",
     "traceback": [
      "\u001b[0;31m---------------------------------------------------------------------------\u001b[0m",
      "\u001b[0;31mTypeError\u001b[0m                                 Traceback (most recent call last)",
      "\u001b[0;32m<ipython-input-94-d081cdb193e1>\u001b[0m in \u001b[0;36m<module>\u001b[0;34m\u001b[0m\n\u001b[0;32m----> 1\u001b[0;31m \u001b[0mprint\u001b[0m \u001b[0;34m(\u001b[0m\u001b[0marreglo_fruta\u001b[0m \u001b[0;34m=\u001b[0m\u001b[0;34m'P'\u001b[0m\u001b[0;34m)\u001b[0m\u001b[0;34m\u001b[0m\u001b[0;34m\u001b[0m\u001b[0m\n\u001b[0m",
      "\u001b[0;31mTypeError\u001b[0m: 'arreglo_fruta' is an invalid keyword argument for print()"
     ]
    }
   ],
   "source": [
    "arraeglo_filas"
   ]
  },
  {
   "cell_type": "code",
   "execution_count": null,
   "metadata": {},
   "outputs": [],
   "source": []
  }
 ],
 "metadata": {
  "kernelspec": {
   "display_name": "Python 3",
   "language": "python",
   "name": "python3"
  },
  "language_info": {
   "codemirror_mode": {
    "name": "ipython",
    "version": 3
   },
   "file_extension": ".py",
   "mimetype": "text/x-python",
   "name": "python",
   "nbconvert_exporter": "python",
   "pygments_lexer": "ipython3",
   "version": "3.7.3"
  }
 },
 "nbformat": 4,
 "nbformat_minor": 2
}
