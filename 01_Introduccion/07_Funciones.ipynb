{
 "cells": [
  {
   "cell_type": "code",
   "execution_count": 3,
   "metadata": {},
   "outputs": [],
   "source": [
    "def hola_mundo():\n",
    "    print('Hola Mundo')"
   ]
  },
  {
   "cell_type": "code",
   "execution_count": 4,
   "metadata": {},
   "outputs": [
    {
     "name": "stdout",
     "output_type": "stream",
     "text": [
      "Hola Mundo\n"
     ]
    }
   ],
   "source": [
    "hola_mundo()"
   ]
  },
  {
   "cell_type": "code",
   "execution_count": 5,
   "metadata": {},
   "outputs": [
    {
     "data": {
      "text/plain": [
       "function"
      ]
     },
     "execution_count": 5,
     "metadata": {},
     "output_type": "execute_result"
    }
   ],
   "source": [
    "type (hola_mundo)"
   ]
  },
  {
   "cell_type": "code",
   "execution_count": 6,
   "metadata": {},
   "outputs": [
    {
     "name": "stdout",
     "output_type": "stream",
     "text": [
      "Hola Mundo\n"
     ]
    },
    {
     "data": {
      "text/plain": [
       "NoneType"
      ]
     },
     "execution_count": 6,
     "metadata": {},
     "output_type": "execute_result"
    }
   ],
   "source": [
    "type (hola_mundo()) "
   ]
  },
  {
   "cell_type": "code",
   "execution_count": 7,
   "metadata": {},
   "outputs": [],
   "source": [
    "def sumas_dos_numeros(num_uno, num_dos):\n",
    "    return num_uno + num_dos"
   ]
  },
  {
   "cell_type": "code",
   "execution_count": 18,
   "metadata": {},
   "outputs": [
    {
     "name": "stdout",
     "output_type": "stream",
     "text": [
      "3\n",
      "<class 'int'>\n"
     ]
    }
   ],
   "source": [
    "print(sumas_dos_numeros(1,2))\n",
    "print(type(sumas_dos_numeros(1,2)))"
   ]
  },
  {
   "cell_type": "code",
   "execution_count": 10,
   "metadata": {},
   "outputs": [],
   "source": [
    "def imprimir_universidad(nombre ='EPN'):\n",
    "    print(f\"Universidades {nombre}\")"
   ]
  },
  {
   "cell_type": "code",
   "execution_count": 11,
   "metadata": {},
   "outputs": [
    {
     "name": "stdout",
     "output_type": "stream",
     "text": [
      "Universidades ESPE\n"
     ]
    }
   ],
   "source": [
    "imprimir_universidad ('ESPE')"
   ]
  },
  {
   "cell_type": "code",
   "execution_count": 14,
   "metadata": {},
   "outputs": [],
   "source": [
    "def imprimir_carro(color,placa,hp,anio):\n",
    "    print(f\"Color: {color}\")\n",
    "    print(f\"Placa: {placa}\")\n",
    "    print(f\"Caballo de fuerza: {hp}\")\n",
    "    print(f\"Año: {anio}\")"
   ]
  },
  {
   "cell_type": "code",
   "execution_count": null,
   "metadata": {},
   "outputs": [],
   "source": []
  },
  {
   "cell_type": "code",
   "execution_count": 15,
   "metadata": {},
   "outputs": [
    {
     "name": "stdout",
     "output_type": "stream",
     "text": [
      "Color: negro\n",
      "Placa: PIG-1010\n",
      "Caballo de fuerza: 2000.0\n",
      "Año: 2016\n"
     ]
    }
   ],
   "source": [
    "# Parametros Nombrados\n",
    "imprimir_carro(color='negro',\n",
    "              placa= 'PIG-1010',\n",
    "              hp= 2000.00,\n",
    "              anio=2016)"
   ]
  },
  {
   "cell_type": "code",
   "execution_count": 16,
   "metadata": {},
   "outputs": [
    {
     "name": "stdout",
     "output_type": "stream",
     "text": [
      "Color: negro\n",
      "Placa: PIG-1010\n",
      "Caballo de fuerza: 2000.0\n",
      "Año: 2016\n"
     ]
    }
   ],
   "source": [
    "# Parametros Nombrados-> Mover\n",
    "imprimir_carro(color='negro',\n",
    "              hp= 2000.00,\n",
    "              placa= 'PIG-1010',\n",
    "              anio=2016)"
   ]
  },
  {
   "cell_type": "code",
   "execution_count": 17,
   "metadata": {},
   "outputs": [
    {
     "name": "stdout",
     "output_type": "stream",
     "text": [
      "Color: negro\n",
      "Placa: PIG-1010\n",
      "Caballo de fuerza: 2000.0\n",
      "Año: 2016\n"
     ]
    }
   ],
   "source": [
    "imprimir_carro('negro',\n",
    "              hp= 2000.00,\n",
    "              placa= 'PIG-1010',\n",
    "              anio=2016)"
   ]
  },
  {
   "cell_type": "code",
   "execution_count": null,
   "metadata": {},
   "outputs": [],
   "source": []
  },
  {
   "cell_type": "code",
   "execution_count": 23,
   "metadata": {},
   "outputs": [],
   "source": [
    "#Parametro de valores infinitos\n",
    "def sumar_numeros(primer_numero, *numeros): #Parametros infinitos\n",
    "    print(type(primer_numero))\n",
    "    print(type(numeros))\n",
    "    print(primer_numero)\n",
    "    total = 0\n",
    "    for numero in numeros:\n",
    "        print (f\"Numeros: {numero}\")\n",
    "        total+= numero\n",
    "    return primer_numero + total"
   ]
  },
  {
   "cell_type": "code",
   "execution_count": 24,
   "metadata": {},
   "outputs": [
    {
     "name": "stdout",
     "output_type": "stream",
     "text": [
      "<class 'int'>\n",
      "<class 'tuple'>\n",
      "1\n",
      "Numeros: 2\n",
      "Numeros: 3\n",
      "Numeros: 4\n",
      "Numeros: 5\n",
      "Numeros: 6\n",
      "Numeros: 7\n",
      "Numeros: 8\n",
      "Numeros: 10\n"
     ]
    },
    {
     "data": {
      "text/plain": [
       "46"
      ]
     },
     "execution_count": 24,
     "metadata": {},
     "output_type": "execute_result"
    }
   ],
   "source": [
    "sumar_numeros(1,2,3,4,5,6,7,8,10)"
   ]
  },
  {
   "cell_type": "code",
   "execution_count": null,
   "metadata": {},
   "outputs": [],
   "source": []
  },
  {
   "cell_type": "code",
   "execution_count": null,
   "metadata": {},
   "outputs": [],
   "source": [
    "#Libreria y dependemos de otra libreria que se actualiza cada x tiempo"
   ]
  },
  {
   "cell_type": "code",
   "execution_count": 26,
   "metadata": {},
   "outputs": [],
   "source": [
    "def libreria(nombre,conexion):\n",
    "    print(f\"Nombre: {nombre}\")\n",
    "    print(f\"Conexion: {conexion}\")"
   ]
  },
  {
   "cell_type": "code",
   "execution_count": 27,
   "metadata": {},
   "outputs": [
    {
     "name": "stdout",
     "output_type": "stream",
     "text": [
      "Nombre: JS\n",
      "Conexion: 192.168.0.1\n"
     ]
    }
   ],
   "source": [
    "libreria('JS','192.168.0.1') "
   ]
  },
  {
   "cell_type": "code",
   "execution_count": 30,
   "metadata": {},
   "outputs": [],
   "source": [
    "def libreria(nombre,conexion, **key_word_arguments):\n",
    "    print(f\"Nombre: {nombre}\")\n",
    "    print(f\"Conexion: {conexion}\")\n",
    "    for nombre, valor in key_word_arguments.items():\n",
    "        print(nombre + ': ' + valor)\n",
    "    print(type(key_word_arguments))"
   ]
  },
  {
   "cell_type": "code",
   "execution_count": 32,
   "metadata": {},
   "outputs": [
    {
     "name": "stdout",
     "output_type": "stream",
     "text": [
      "Nombre: JS\n",
      "Conexion: 192.168.0.1\n",
      "puerto: 300\n",
      "<class 'dict'>\n"
     ]
    }
   ],
   "source": [
    "libreria('JS','192.168.0.1', puerto=\"300\") "
   ]
  },
  {
   "cell_type": "code",
   "execution_count": 33,
   "metadata": {},
   "outputs": [],
   "source": [
    "def libreria(nombre,conexion, **key_word_arguments):\n",
    "    print(f\"Nombre: {nombre}\")\n",
    "    print(f\"Conexion: {conexion}\")\n",
    "    print(type(key_word_arguments))\n",
    "    for key in key_word_arguments.key():\n",
    "        print (f\"{key_word_arguments}\")"
   ]
  },
  {
   "cell_type": "code",
   "execution_count": 34,
   "metadata": {},
   "outputs": [
    {
     "ename": "SyntaxError",
     "evalue": "invalid syntax (<ipython-input-34-54581f52d458>, line 1)",
     "output_type": "error",
     "traceback": [
      "\u001b[0;36m  File \u001b[0;32m\"<ipython-input-34-54581f52d458>\"\u001b[0;36m, line \u001b[0;32m1\u001b[0m\n\u001b[0;31m    libreria('JS','192.168.0.1', puerto=300, version: 1.0)\u001b[0m\n\u001b[0m                                                    ^\u001b[0m\n\u001b[0;31mSyntaxError\u001b[0m\u001b[0;31m:\u001b[0m invalid syntax\n"
     ]
    }
   ],
   "source": [
    "libreria('JS','192.168.0.1', puerto=300, version: 1.0)  "
   ]
  },
  {
   "cell_type": "code",
   "execution_count": 37,
   "metadata": {},
   "outputs": [],
   "source": [
    "def funcion_completa(requerido,\n",
    "                    opcional='valor',\n",
    "                    *infinitos,\n",
    "                    **kwargs):\n",
    "    print(f\"Requerido: {requerido}\")\n",
    "    print(f\"Opcional: {opcional}\")\n",
    "    for x in infinitos:\n",
    "        print(f\"Infinitos: {x}\")\n",
    "    for key in kwargs.keys():\n",
    "        print(f\"{key.capitalize()}: {kwargs[keys]}\") \n",
    "    "
   ]
  },
  {
   "cell_type": "code",
   "execution_count": 38,
   "metadata": {},
   "outputs": [
    {
     "ename": "NameError",
     "evalue": "name 'fiuncion_completa' is not defined",
     "output_type": "error",
     "traceback": [
      "\u001b[0;31m---------------------------------------------------------------------------\u001b[0m",
      "\u001b[0;31mNameError\u001b[0m                                 Traceback (most recent call last)",
      "\u001b[0;32m<ipython-input-38-2661268ad574>\u001b[0m in \u001b[0;36m<module>\u001b[0;34m\u001b[0m\n\u001b[0;32m----> 1\u001b[0;31m fiuncion_completa (1,'opcional',\n\u001b[0m\u001b[1;32m      2\u001b[0m                   \u001b[0;36m1\u001b[0m\u001b[0;34m,\u001b[0m\u001b[0;36m2\u001b[0m\u001b[0;34m,\u001b[0m\u001b[0;36m3\u001b[0m\u001b[0;34m,\u001b[0m\u001b[0;36m4\u001b[0m\u001b[0;34m,\u001b[0m\u001b[0;36m5\u001b[0m\u001b[0;34m,\u001b[0m\u001b[0;36m6\u001b[0m\u001b[0;34m,\u001b[0m\u001b[0;34m\u001b[0m\u001b[0;34m\u001b[0m\u001b[0m\n\u001b[1;32m      3\u001b[0m                   \u001b[0mvalor\u001b[0m\u001b[0;34m=\u001b[0m\u001b[0;34m'Valor'\u001b[0m\u001b[0;34m,\u001b[0m\u001b[0;34m\u001b[0m\u001b[0;34m\u001b[0m\u001b[0m\n\u001b[1;32m      4\u001b[0m                   llave='Llave')\n",
      "\u001b[0;31mNameError\u001b[0m: name 'fiuncion_completa' is not defined"
     ]
    }
   ],
   "source": [
    "fiuncion_completa(1,'opcional',\n",
    "                  1,2,3,4,5,6,\n",
    "                  valor='Valor',\n",
    "                  llave='Llave')"
   ]
  },
  {
   "cell_type": "code",
   "execution_count": null,
   "metadata": {},
   "outputs": [],
   "source": []
  }
 ],
 "metadata": {
  "kernelspec": {
   "display_name": "Python 3",
   "language": "python",
   "name": "python3"
  },
  "language_info": {
   "codemirror_mode": {
    "name": "ipython",
    "version": 3
   },
   "file_extension": ".py",
   "mimetype": "text/x-python",
   "name": "python",
   "nbconvert_exporter": "python",
   "pygments_lexer": "ipython3",
   "version": "3.7.3"
  }
 },
 "nbformat": 4,
 "nbformat_minor": 2
}
