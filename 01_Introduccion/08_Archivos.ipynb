{
 "cells": [
  {
   "cell_type": "markdown",
   "metadata": {},
   "source": [
    "# Archivos"
   ]
  },
  {
   "cell_type": "code",
   "execution_count": 8,
   "metadata": {},
   "outputs": [
    {
     "ename": "SyntaxError",
     "evalue": "invalid syntax (<ipython-input-8-37c8f2720de1>, line 19)",
     "output_type": "error",
     "traceback": [
      "\u001b[0;36m  File \u001b[0;32m\"<ipython-input-8-37c8f2720de1>\"\u001b[0;36m, line \u001b[0;32m19\u001b[0m\n\u001b[0;31m    for linea in lineas_archivo\u001b[0m\n\u001b[0m                               ^\u001b[0m\n\u001b[0;31mSyntaxError\u001b[0m\u001b[0;31m:\u001b[0m invalid syntax\n"
     ]
    }
   ],
   "source": [
    "try:\n",
    "    path = './08_archivo.txt'\n",
    "    archivo_abierto = open(path)\n",
    "    print(archivo_abierto)\n",
    "    print(type(archivo_abierto))\n",
    "    \n",
    "    linea_leida_uno = archivo_abierto.realines()\n",
    "    print(linea_leida_uno)\n",
    "    print(type(linea_leida))\n",
    "    \n",
    "    linea_leida_dos = archivo_abierto.realines()\n",
    "    print(linea_leida_dos)\n",
    "    print(type(linea_leida))\n",
    "    \n",
    "    lineas_archivo = archivo_abierto.readlines()\n",
    "    print(lineas_archivo)\n",
    "    print(type(lineas_archivo))\n",
    "    \n",
    "    for linea in lineas_archivo\n",
    "        print(linea)\n",
    "    archivo_abierto.close()\n",
    "except:\n",
    "    print('Error leyendo archivo')"
   ]
  },
  {
   "cell_type": "code",
   "execution_count": 17,
   "metadata": {},
   "outputs": [],
   "source": [
    "try:\n",
    "    path ='./08_archivo.txt'\n",
    "    archivo_escritura_abierto = open(path, mode='w') \n",
    "    archivo_escritura_abierto.write('Buenas noches') #Sobreescribe el contenido\n",
    "    archivo_escritura_abierto.close()\n",
    "except:\n",
    "    print('Error leyendo archivo')"
   ]
  },
  {
   "cell_type": "code",
   "execution_count": 19,
   "metadata": {},
   "outputs": [
    {
     "name": "stdout",
     "output_type": "stream",
     "text": [
      "Error leyendo archivo\n"
     ]
    }
   ],
   "source": [
    "try:\n",
    "    path ='./08_archivo.txt'\n",
    "    archivo_escritura_abierto = open(path, mode='a') # a-> append y añade el contenido al final\n",
    "    archivo_escritura_abierto.write('Buenas noches\\n') \n",
    "    archivo_escritura_abierto.writelines('Buenas noches\\n','hola\\n') \n",
    "    archivo_escritura_abierto.close()\n",
    "except:\n",
    "    print('Error leyendo archivo')"
   ]
  },
  {
   "cell_type": "code",
   "execution_count": null,
   "metadata": {},
   "outputs": [],
   "source": []
  }
 ],
 "metadata": {
  "kernelspec": {
   "display_name": "Python 3",
   "language": "python",
   "name": "python3"
  },
  "language_info": {
   "codemirror_mode": {
    "name": "ipython",
    "version": 3
   },
   "file_extension": ".py",
   "mimetype": "text/x-python",
   "name": "python",
   "nbconvert_exporter": "python",
   "pygments_lexer": "ipython3",
   "version": "3.7.3"
  }
 },
 "nbformat": 4,
 "nbformat_minor": 2
}
