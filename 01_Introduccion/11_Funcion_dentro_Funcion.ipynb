{
 "cells": [
  {
   "cell_type": "markdown",
   "metadata": {},
   "source": [
    "# Funcion dentro Funcion"
   ]
  },
  {
   "cell_type": "code",
   "execution_count": 8,
   "metadata": {},
   "outputs": [],
   "source": [
    "def calculadora(num_uno, num_dos, operacion='Sumar'):\n",
    "    \n",
    "    def sumar():\n",
    "        return num_uno + num_dos\n",
    "    \n",
    "    def restar():\n",
    "        return num_uno - num_dos\n",
    "    \n",
    "    def dividir():\n",
    "        return num_uno / num_dos\n",
    "    \n",
    "    def mult():\n",
    "        return num_uno * num_dos\n",
    "    \n",
    "    def switch_operacion():\n",
    "        return {\n",
    "            'Sumar': sumar(),\n",
    "            'Restar': restar(),\n",
    "            'Multiplicar': mult(),\n",
    "            'Dividir': dividir()\n",
    "        }[operacion]\n",
    "    \n",
    "    return switch_operacion()\n",
    "    "
   ]
  },
  {
   "cell_type": "code",
   "execution_count": 10,
   "metadata": {},
   "outputs": [
    {
     "data": {
      "text/plain": [
       "-1"
      ]
     },
     "execution_count": 10,
     "metadata": {},
     "output_type": "execute_result"
    }
   ],
   "source": [
    "calculadora(1,2, 'Restar')"
   ]
  },
  {
   "cell_type": "code",
   "execution_count": 11,
   "metadata": {},
   "outputs": [
    {
     "data": {
      "text/plain": [
       "3"
      ]
     },
     "execution_count": 11,
     "metadata": {},
     "output_type": "execute_result"
    }
   ],
   "source": [
    "calculadora(1,2, 'Sumar')"
   ]
  },
  {
   "cell_type": "code",
   "execution_count": null,
   "metadata": {},
   "outputs": [],
   "source": []
  }
 ],
 "metadata": {
  "kernelspec": {
   "display_name": "Python 3",
   "language": "python",
   "name": "python3"
  },
  "language_info": {
   "codemirror_mode": {
    "name": "ipython",
    "version": 3
   },
   "file_extension": ".py",
   "mimetype": "text/x-python",
   "name": "python",
   "nbconvert_exporter": "python",
   "pygments_lexer": "ipython3",
   "version": "3.7.3"
  }
 },
 "nbformat": 4,
 "nbformat_minor": 2
}
