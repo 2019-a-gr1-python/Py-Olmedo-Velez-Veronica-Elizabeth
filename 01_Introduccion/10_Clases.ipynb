{
 "cells": [
  {
   "cell_type": "markdown",
   "metadata": {},
   "source": [
    "# Clases"
   ]
  },
  {
   "cell_type": "code",
   "execution_count": 1,
   "metadata": {},
   "outputs": [],
   "source": [
    "#como deginir una clase vacia\n",
    "class Nada:\n",
    "    pass"
   ]
  },
  {
   "cell_type": "code",
   "execution_count": 2,
   "metadata": {},
   "outputs": [],
   "source": [
    "una_nada = Nada()"
   ]
  },
  {
   "cell_type": "code",
   "execution_count": 3,
   "metadata": {},
   "outputs": [
    {
     "name": "stdout",
     "output_type": "stream",
     "text": [
      "<__main__.Nada object at 0x110eccef0>\n"
     ]
    }
   ],
   "source": [
    "#Imprime la direccion a memoria\n",
    "print(una_nada)"
   ]
  },
  {
   "cell_type": "code",
   "execution_count": 4,
   "metadata": {},
   "outputs": [
    {
     "name": "stdout",
     "output_type": "stream",
     "text": [
      "<class '__main__.Nada'>\n"
     ]
    }
   ],
   "source": [
    "print(type(una_nada))"
   ]
  },
  {
   "cell_type": "code",
   "execution_count": null,
   "metadata": {},
   "outputs": [],
   "source": []
  },
  {
   "cell_type": "code",
   "execution_count": 34,
   "metadata": {},
   "outputs": [],
   "source": [
    "class Auto:\n",
    "    color = 'Azul' # Propiedad publica\n",
    "    placa = '' # Propiedad publica\n",
    "    \n",
    "    def __init__(self, placa): # Constructor\n",
    "        print('Estamos inicializando el Auto')\n",
    "        self.placa = placa\n",
    "\n",
    "    def __str__(self): # OVERRIDE-> Devuelve un 'str'\n",
    "        return f'Color: {self.color}\\n'+f'Placa: {self.placa}'  "
   ]
  },
  {
   "cell_type": "code",
   "execution_count": 5,
   "metadata": {},
   "outputs": [
    {
     "name": "stdout",
     "output_type": "stream",
     "text": [
      "Estamos inicializando el Auto\n"
     ]
    }
   ],
   "source": [
    "coche = Auto('PIK-1234')"
   ]
  },
  {
   "cell_type": "code",
   "execution_count": 6,
   "metadata": {},
   "outputs": [
    {
     "data": {
      "text/plain": [
       "<__main__.Auto at 0x219cc7bc128>"
      ]
     },
     "execution_count": 6,
     "metadata": {},
     "output_type": "execute_result"
    }
   ],
   "source": [
    "# Referencia a la memoria\n",
    "coche"
   ]
  },
  {
   "cell_type": "code",
   "execution_count": 8,
   "metadata": {},
   "outputs": [
    {
     "data": {
      "text/plain": [
       "'Azul'"
      ]
     },
     "execution_count": 8,
     "metadata": {},
     "output_type": "execute_result"
    }
   ],
   "source": [
    "coche.color"
   ]
  },
  {
   "cell_type": "code",
   "execution_count": 7,
   "metadata": {},
   "outputs": [
    {
     "data": {
      "text/plain": [
       "'PIK-1234'"
      ]
     },
     "execution_count": 7,
     "metadata": {},
     "output_type": "execute_result"
    }
   ],
   "source": [
    "coche.placa"
   ]
  },
  {
   "cell_type": "code",
   "execution_count": 35,
   "metadata": {},
   "outputs": [
    {
     "name": "stdout",
     "output_type": "stream",
     "text": [
      "<__main__.Auto object at 0x00000219CC7BC128>\n"
     ]
    }
   ],
   "source": [
    "print(coche)"
   ]
  },
  {
   "cell_type": "code",
   "execution_count": 24,
   "metadata": {},
   "outputs": [],
   "source": [
    "class Vehiculo:\n",
    "    color = 'Negro' # Propiedad publicas\n",
    "    placa = '' # Propiedad publica\n",
    "    __numero_calculo = 1024 # Propiedad Privada\n",
    "    \n",
    "    def __init__(self, placa): # Constructor\n",
    "        print('Estamos inicializando el Vehiculo')\n",
    "        self.placa = placa\n",
    "        \n",
    "    def __str__(self): # OVERRIDE-> Devuelve un 'str'\n",
    "        return f'Color: {self.color}\\n'+f'Placa: {self.placa}'\n",
    "    \n",
    "    def calcular_impuesto(self, anio): # Metodo Publico\n",
    "        total_pagar = self._calculo(anio) # Quitar el doble \"_\"\n",
    "        print (f'Su impuesto a pagar es: {total_pagar}')\n",
    "        return total_pagar\n",
    "    \n",
    "    def _calculo(self, anio): # Metodo Privado\n",
    "        return (anio / 2) + self.__numero_calculo"
   ]
  },
  {
   "cell_type": "code",
   "execution_count": 25,
   "metadata": {},
   "outputs": [
    {
     "name": "stdout",
     "output_type": "stream",
     "text": [
      "Estamos inicializando el Vehiculo\n"
     ]
    }
   ],
   "source": [
    "carro = Vehiculo('PIK-5555')"
   ]
  },
  {
   "cell_type": "code",
   "execution_count": 26,
   "metadata": {},
   "outputs": [
    {
     "data": {
      "text/plain": [
       "'Negro'"
      ]
     },
     "execution_count": 26,
     "metadata": {},
     "output_type": "execute_result"
    }
   ],
   "source": [
    "carro.color"
   ]
  },
  {
   "cell_type": "code",
   "execution_count": 27,
   "metadata": {},
   "outputs": [
    {
     "data": {
      "text/plain": [
       "'PIK-5555'"
      ]
     },
     "execution_count": 27,
     "metadata": {},
     "output_type": "execute_result"
    }
   ],
   "source": [
    "carro.placa"
   ]
  },
  {
   "cell_type": "code",
   "execution_count": 28,
   "metadata": {},
   "outputs": [
    {
     "name": "stdout",
     "output_type": "stream",
     "text": [
      "Color: Negro\n",
      "Placa: PIK-5555\n"
     ]
    }
   ],
   "source": [
    "print(carro)"
   ]
  },
  {
   "cell_type": "code",
   "execution_count": 36,
   "metadata": {},
   "outputs": [],
   "source": [
    "# Herredar\n",
    "class BMW (Vehiculo):\n",
    "    # hp_motor = 0\n",
    "    \n",
    "    def _init_(self, placa, hp_motor = 5000):\n",
    "        super()._init_(placa)\n",
    "        self.hp_motor = hp_motor # Inicialización\n",
    "    \n",
    "    def _str_(self):\n",
    "        print (self._calculo(999))\n",
    "        return f'Color: {self.color}\\nPlaca:{self.placa}\\n\n",
    "        HP Mortor: {self.hp_motor}'"
   ]
  },
  {
   "cell_type": "code",
   "execution_count": 37,
   "metadata": {},
   "outputs": [
    {
     "name": "stdout",
     "output_type": "stream",
     "text": [
      "Estamos inicializando el Vehiculo\n"
     ]
    }
   ],
   "source": [
    "nuevo_bmw = BMW('PHC-4433') "
   ]
  },
  {
   "cell_type": "code",
   "execution_count": 38,
   "metadata": {},
   "outputs": [
    {
     "data": {
      "text/plain": [
       "'PHC-4433'"
      ]
     },
     "execution_count": 38,
     "metadata": {},
     "output_type": "execute_result"
    }
   ],
   "source": [
    "nuevo_bmw.placa"
   ]
  },
  {
   "cell_type": "code",
   "execution_count": 39,
   "metadata": {},
   "outputs": [
    {
     "name": "stdout",
     "output_type": "stream",
     "text": [
      "Color: Negro\n",
      "Placa: PHC-4433\n"
     ]
    }
   ],
   "source": [
    "print(nuevo_bmw)"
   ]
  },
  {
   "cell_type": "code",
   "execution_count": 40,
   "metadata": {},
   "outputs": [
    {
     "name": "stdout",
     "output_type": "stream",
     "text": [
      "Su impuesto a pagar es: 1625.5\n"
     ]
    },
    {
     "data": {
      "text/plain": [
       "1625.5"
      ]
     },
     "execution_count": 40,
     "metadata": {},
     "output_type": "execute_result"
    }
   ],
   "source": [
    "nuevo_bmw.calcular_impuesto(1203) "
   ]
  },
  {
   "cell_type": "code",
   "execution_count": 41,
   "metadata": {},
   "outputs": [
    {
     "name": "stdout",
     "output_type": "stream",
     "text": [
      "Color: Negro\n",
      "Placa: PHC-4433\n"
     ]
    }
   ],
   "source": [
    "print(nuevo_bmw)"
   ]
  },
  {
   "cell_type": "code",
   "execution_count": null,
   "metadata": {},
   "outputs": [],
   "source": []
  }
 ],
 "metadata": {
  "kernelspec": {
   "display_name": "Python 3",
   "language": "python",
   "name": "python3"
  },
  "language_info": {
   "codemirror_mode": {
    "name": "ipython",
    "version": 3
   },
   "file_extension": ".py",
   "mimetype": "text/x-python",
   "name": "python",
   "nbconvert_exporter": "python",
   "pygments_lexer": "ipython3",
   "version": "3.7.3"
  }
 },
 "nbformat": 4,
 "nbformat_minor": 2
}
