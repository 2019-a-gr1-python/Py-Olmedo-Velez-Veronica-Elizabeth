{
 "cells": [
  {
   "cell_type": "markdown",
   "metadata": {},
   "source": [
    "# Clases"
   ]
  },
  {
   "cell_type": "code",
   "execution_count": 1,
   "metadata": {},
   "outputs": [],
   "source": [
    "#como deginir una clase vacia\n",
    "class Nada:\n",
    "    pass"
   ]
  },
  {
   "cell_type": "code",
   "execution_count": 2,
   "metadata": {},
   "outputs": [],
   "source": [
    "una_nada = Nada()"
   ]
  },
  {
   "cell_type": "code",
   "execution_count": 3,
   "metadata": {},
   "outputs": [
    {
     "name": "stdout",
     "output_type": "stream",
     "text": [
      "<__main__.Nada object at 0x110eccef0>\n"
     ]
    }
   ],
   "source": [
    "#Imprime la direccion a memoria\n",
    "print(una_nada)"
   ]
  },
  {
   "cell_type": "code",
   "execution_count": 4,
   "metadata": {},
   "outputs": [
    {
     "name": "stdout",
     "output_type": "stream",
     "text": [
      "<class '__main__.Nada'>\n"
     ]
    }
   ],
   "source": [
    "print(type(una_nada))"
   ]
  },
  {
   "cell_type": "code",
   "execution_count": null,
   "metadata": {},
   "outputs": [],
   "source": []
  },
  {
   "cell_type": "code",
   "execution_count": 27,
   "metadata": {},
   "outputs": [],
   "source": [
    "class Auto:\n",
    "    color = 'Azul' #Propiedad publica\n",
    "    placa = '' #Propiedad publica\n",
    "    def _init_(self, placa): #Constructor\n",
    "        print('Estamos inicializando el auto')\n",
    "        self.placa = placa\n",
    "    def _str_(self):\n",
    "        print(f'Color: {self.color}')\n",
    "        print(f'Placa: {self.placa}')\n",
    "        return f'Color: {self.color}\\n' + f'Placa: {self.placa}\\n'\n",
    "    "
   ]
  },
  {
   "cell_type": "code",
   "execution_count": 28,
   "metadata": {},
   "outputs": [
    {
     "ename": "TypeError",
     "evalue": "Auto() takes no arguments",
     "output_type": "error",
     "traceback": [
      "\u001b[0;31m---------------------------------------------------------------------------\u001b[0m",
      "\u001b[0;31mTypeError\u001b[0m                                 Traceback (most recent call last)",
      "\u001b[0;32m<ipython-input-28-de8c1ae281d4>\u001b[0m in \u001b[0;36m<module>\u001b[0;34m\u001b[0m\n\u001b[0;32m----> 1\u001b[0;31m \u001b[0mcoche\u001b[0m \u001b[0;34m=\u001b[0m \u001b[0mAuto\u001b[0m\u001b[0;34m(\u001b[0m\u001b[0;34m'PIK-1234'\u001b[0m\u001b[0;34m)\u001b[0m\u001b[0;34m\u001b[0m\u001b[0;34m\u001b[0m\u001b[0m\n\u001b[0m",
      "\u001b[0;31mTypeError\u001b[0m: Auto() takes no arguments"
     ]
    }
   ],
   "source": [
    "coche = Auto('PIK-1234')"
   ]
  },
  {
   "cell_type": "code",
   "execution_count": 7,
   "metadata": {},
   "outputs": [
    {
     "data": {
      "text/plain": [
       "<__main__.Auto at 0x110bf6f60>"
      ]
     },
     "execution_count": 7,
     "metadata": {},
     "output_type": "execute_result"
    }
   ],
   "source": [
    "#Referencia a la memoria\n",
    "coche"
   ]
  },
  {
   "cell_type": "code",
   "execution_count": 8,
   "metadata": {},
   "outputs": [
    {
     "data": {
      "text/plain": [
       "'Azul'"
      ]
     },
     "execution_count": 8,
     "metadata": {},
     "output_type": "execute_result"
    }
   ],
   "source": [
    "coche.color"
   ]
  },
  {
   "cell_type": "code",
   "execution_count": 24,
   "metadata": {},
   "outputs": [
    {
     "ename": "AttributeError",
     "evalue": "'Auto' object has no attribute 'placa'",
     "output_type": "error",
     "traceback": [
      "\u001b[0;31m---------------------------------------------------------------------------\u001b[0m",
      "\u001b[0;31mAttributeError\u001b[0m                            Traceback (most recent call last)",
      "\u001b[0;32m<ipython-input-24-02b90ddbe954>\u001b[0m in \u001b[0;36m<module>\u001b[0;34m\u001b[0m\n\u001b[0;32m----> 1\u001b[0;31m \u001b[0mcoche\u001b[0m\u001b[0;34m.\u001b[0m\u001b[0mplaca\u001b[0m\u001b[0;34m\u001b[0m\u001b[0;34m\u001b[0m\u001b[0m\n\u001b[0m",
      "\u001b[0;31mAttributeError\u001b[0m: 'Auto' object has no attribute 'placa'"
     ]
    }
   ],
   "source": [
    "coche.placa"
   ]
  },
  {
   "cell_type": "code",
   "execution_count": 25,
   "metadata": {},
   "outputs": [
    {
     "name": "stdout",
     "output_type": "stream",
     "text": [
      "<__main__.Auto object at 0x110c5fb00>\n"
     ]
    }
   ],
   "source": [
    "print (coche)"
   ]
  },
  {
   "cell_type": "code",
   "execution_count": 33,
   "metadata": {},
   "outputs": [],
   "source": [
    "class Auto:\n",
    "    color = 'Azul' #Propiedad publicas\n",
    "    placa = '' # Propiedad publica\n",
    "    _numero_calculo = 1024 # Propiedad Privada\n",
    "    \n",
    "    def _init_(self, placa): #Constructor\n",
    "        print('Estamos inicializando el auto')\n",
    "        self.placa = placa\n",
    "        \n",
    "    def _str_(self): # OVERRIDE Devuelve un 'str'\n",
    "        return f'Color: {self.color}\\n' + f'Placa: {self.placa}\\n'\n",
    "    \n",
    "    def calcular_impuesto(self, anio): # Metodo Publico\n",
    "        total_pagar=self._calculo(anio) # Quitar el doble _\n",
    "        print (f'Su impuesto a pagar es: {total_pagar}')\n",
    "        return total_pagar\n",
    "    \n",
    "    def __calculo(self, anio): # Metodo Privado\n",
    "        return (anio/2)+ self._numero_calculo"
   ]
  },
  {
   "cell_type": "code",
   "execution_count": 34,
   "metadata": {},
   "outputs": [
    {
     "name": "stdout",
     "output_type": "stream",
     "text": [
      "<__main__.Auto object at 0x110c5fb00>\n"
     ]
    }
   ],
   "source": [
    "print(coche)"
   ]
  },
  {
   "cell_type": "code",
   "execution_count": 35,
   "metadata": {},
   "outputs": [
    {
     "ename": "AttributeError",
     "evalue": "'Auto' object has no attribute 'calcular_impuesto'",
     "output_type": "error",
     "traceback": [
      "\u001b[0;31m---------------------------------------------------------------------------\u001b[0m",
      "\u001b[0;31mAttributeError\u001b[0m                            Traceback (most recent call last)",
      "\u001b[0;32m<ipython-input-35-8473d14d17de>\u001b[0m in \u001b[0;36m<module>\u001b[0;34m\u001b[0m\n\u001b[0;32m----> 1\u001b[0;31m \u001b[0mcoche\u001b[0m\u001b[0;34m.\u001b[0m\u001b[0mcalcular_impuesto\u001b[0m\u001b[0;34m(\u001b[0m\u001b[0;36m2019\u001b[0m\u001b[0;34m)\u001b[0m\u001b[0;34m\u001b[0m\u001b[0;34m\u001b[0m\u001b[0m\n\u001b[0m",
      "\u001b[0;31mAttributeError\u001b[0m: 'Auto' object has no attribute 'calcular_impuesto'"
     ]
    }
   ],
   "source": [
    "coche.calcular_impuesto(2019)"
   ]
  },
  {
   "cell_type": "code",
   "execution_count": null,
   "metadata": {},
   "outputs": [],
   "source": []
  },
  {
   "cell_type": "code",
   "execution_count": null,
   "metadata": {},
   "outputs": [],
   "source": []
  },
  {
   "cell_type": "code",
   "execution_count": 48,
   "metadata": {},
   "outputs": [],
   "source": [
    "#Herredar\n",
    "class BMW (Auto):\n",
    "    # hp_motor = 0\n",
    "    \n",
    "    def _init_(self, placa, hp_motor = 5000):\n",
    "        super()._init_(placa)\n",
    "        self.hp_motor = hp_motor # Inicialización\n",
    "    \n",
    "    def _str_(self):\n",
    "        print (self._calculo(999))\n",
    "        return f'Color: {self.color}\\nPlaca:{self.placa}\\nHP Mortor: {self.hp_motor}'"
   ]
  },
  {
   "cell_type": "code",
   "execution_count": 52,
   "metadata": {},
   "outputs": [
    {
     "ename": "TypeError",
     "evalue": "BMW() takes no arguments",
     "output_type": "error",
     "traceback": [
      "\u001b[0;31m---------------------------------------------------------------------------\u001b[0m",
      "\u001b[0;31mTypeError\u001b[0m                                 Traceback (most recent call last)",
      "\u001b[0;32m<ipython-input-52-bd575c16dc94>\u001b[0m in \u001b[0;36m<module>\u001b[0;34m\u001b[0m\n\u001b[0;32m----> 1\u001b[0;31m \u001b[0mnuevo_bmw\u001b[0m \u001b[0;34m=\u001b[0m \u001b[0mBMW\u001b[0m\u001b[0;34m(\u001b[0m\u001b[0;34m'PHC-4433'\u001b[0m\u001b[0;34m)\u001b[0m\u001b[0;34m\u001b[0m\u001b[0;34m\u001b[0m\u001b[0m\n\u001b[0m",
      "\u001b[0;31mTypeError\u001b[0m: BMW() takes no arguments"
     ]
    }
   ],
   "source": [
    "nuevo_bmw = BMW('PHC-4433') "
   ]
  },
  {
   "cell_type": "code",
   "execution_count": 42,
   "metadata": {},
   "outputs": [
    {
     "data": {
      "text/plain": [
       "''"
      ]
     },
     "execution_count": 42,
     "metadata": {},
     "output_type": "execute_result"
    }
   ],
   "source": [
    "nuevo_bmw.placa"
   ]
  },
  {
   "cell_type": "code",
   "execution_count": 43,
   "metadata": {},
   "outputs": [
    {
     "name": "stdout",
     "output_type": "stream",
     "text": [
      "<__main__.BMW object at 0x1111cd940>\n"
     ]
    }
   ],
   "source": [
    "print(nuevo_bmw)"
   ]
  },
  {
   "cell_type": "code",
   "execution_count": 44,
   "metadata": {},
   "outputs": [
    {
     "name": "stdout",
     "output_type": "stream",
     "text": [
      "Su impuesto a pagar es: 1625.5\n"
     ]
    },
    {
     "data": {
      "text/plain": [
       "1625.5"
      ]
     },
     "execution_count": 44,
     "metadata": {},
     "output_type": "execute_result"
    }
   ],
   "source": [
    "nuevo_bmw.calcular_impuesto(1203) "
   ]
  },
  {
   "cell_type": "code",
   "execution_count": 45,
   "metadata": {},
   "outputs": [
    {
     "name": "stdout",
     "output_type": "stream",
     "text": [
      "<__main__.BMW object at 0x1111cd940>\n"
     ]
    }
   ],
   "source": [
    "print(nuevo_bmw)"
   ]
  },
  {
   "cell_type": "code",
   "execution_count": null,
   "metadata": {},
   "outputs": [],
   "source": []
  }
 ],
 "metadata": {
  "kernelspec": {
   "display_name": "Python 3",
   "language": "python",
   "name": "python3"
  },
  "language_info": {
   "codemirror_mode": {
    "name": "ipython",
    "version": 3
   },
   "file_extension": ".py",
   "mimetype": "text/x-python",
   "name": "python",
   "nbconvert_exporter": "python",
   "pygments_lexer": "ipython3",
   "version": "3.7.3"
  }
 },
 "nbformat": 4,
 "nbformat_minor": 2
}
