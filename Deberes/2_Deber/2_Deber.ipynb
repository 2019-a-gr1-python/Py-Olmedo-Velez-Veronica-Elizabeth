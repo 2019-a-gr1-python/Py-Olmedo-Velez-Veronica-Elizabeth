{
 "cells": [
  {
   "cell_type": "markdown",
   "metadata": {},
   "source": [
    "# Encontrar todas las frutas del arreglo que empiecen con P"
   ]
  },
  {
   "cell_type": "code",
   "execution_count": 4,
   "metadata": {},
   "outputs": [],
   "source": [
    "# Muestra en una sola dimension todas las frutas que empiezan con P con strartwith (Empieza por)\n",
    "import numpy as np "
   ]
  },
  {
   "cell_type": "code",
   "execution_count": 30,
   "metadata": {},
   "outputs": [],
   "source": [
    "arreglo_fruta2 = np.array ([['Piñas','Manzana','Pera','Naranja'],\n",
    "                           ['Pomelo','Uva','Naranja','Melo'],\n",
    "                           ['Frutilla','Platano','Granadilla','Sandia'],\n",
    "                           ['Melon','Papaya','Granadilla','Limon'],\n",
    "                           ['Piña','Manzana','Pitajaya','Naranja'],\n",
    "                           ['Lima','Uva','Naranja','Melo'],\n",
    "                          ]) "
   ]
  },
  {
   "cell_type": "code",
   "execution_count": 31,
   "metadata": {},
   "outputs": [],
   "source": [
    "arreglo_fruta2.shape = (3,4,2) "
   ]
  },
  {
   "cell_type": "code",
   "execution_count": 33,
   "metadata": {},
   "outputs": [
    {
     "data": {
      "text/plain": [
       "array([[['Piñas', 'Manzana'],\n",
       "        ['Pera', 'Naranja'],\n",
       "        ['Pomelo', 'Uva'],\n",
       "        ['Naranja', 'Melo']],\n",
       "\n",
       "       [['Frutilla', 'Platano'],\n",
       "        ['Granadilla', 'Sandia'],\n",
       "        ['Melon', 'Papaya'],\n",
       "        ['Granadilla', 'Limon']],\n",
       "\n",
       "       [['Piña', 'Manzana'],\n",
       "        ['Pitajaya', 'Naranja'],\n",
       "        ['Lima', 'Uva'],\n",
       "        ['Naranja', 'Melo']]], dtype='<U10')"
      ]
     },
     "execution_count": 33,
     "metadata": {},
     "output_type": "execute_result"
    }
   ],
   "source": [
    "arreglo_fruta2  "
   ]
  },
  {
   "cell_type": "code",
   "execution_count": 34,
   "metadata": {},
   "outputs": [
    {
     "data": {
      "text/plain": [
       "array(['Piñas', 'Manzana', 'Pera', 'Naranja', 'Pomelo', 'Uva', 'Naranja',\n",
       "       'Melo', 'Frutilla', 'Platano', 'Granadilla', 'Sandia', 'Melon',\n",
       "       'Papaya', 'Granadilla', 'Limon', 'Piña', 'Manzana', 'Pitajaya',\n",
       "       'Naranja', 'Lima', 'Uva', 'Naranja', 'Melo'], dtype='<U10')"
      ]
     },
     "execution_count": 34,
     "metadata": {},
     "output_type": "execute_result"
    }
   ],
   "source": [
    "arreglo_fruta2.flatten() "
   ]
  },
  {
   "cell_type": "code",
   "execution_count": 35,
   "metadata": {},
   "outputs": [],
   "source": [
    "inicio_nombreP = np.array([fruta.startswith('P') for fruta in arreglo_fruta2.flatten()]) "
   ]
  },
  {
   "cell_type": "code",
   "execution_count": 36,
   "metadata": {},
   "outputs": [
    {
     "data": {
      "text/plain": [
       "array([ True, False,  True, False,  True, False, False, False, False,\n",
       "        True, False, False, False,  True, False, False,  True, False,\n",
       "        True, False, False, False, False, False])"
      ]
     },
     "execution_count": 36,
     "metadata": {},
     "output_type": "execute_result"
    }
   ],
   "source": [
    "inicio_nombreP "
   ]
  },
  {
   "cell_type": "code",
   "execution_count": 37,
   "metadata": {},
   "outputs": [
    {
     "data": {
      "text/plain": [
       "array(['Piñas', 'Pera', 'Pomelo', 'Platano', 'Papaya', 'Piña', 'Pitajaya'],\n",
       "      dtype='<U10')"
      ]
     },
     "execution_count": 37,
     "metadata": {},
     "output_type": "execute_result"
    }
   ],
   "source": [
    "arreglo_fruta2.flatten()[inicio_nombreP]  "
   ]
  },
  {
   "cell_type": "markdown",
   "metadata": {},
   "source": [
    "# Mostrar un arreglo de 3, 4, 2 "
   ]
  },
  {
   "cell_type": "code",
   "execution_count": 38,
   "metadata": {},
   "outputs": [],
   "source": [
    "# Mostrar los un array de 3dimensiones"
   ]
  },
  {
   "cell_type": "code",
   "execution_count": 57,
   "metadata": {},
   "outputs": [],
   "source": [
    "array_numeros3d = np.arange(24).reshape(3,4,2) "
   ]
  },
  {
   "cell_type": "code",
   "execution_count": 58,
   "metadata": {},
   "outputs": [
    {
     "data": {
      "text/plain": [
       "array([[[ 0,  1],\n",
       "        [ 2,  3],\n",
       "        [ 4,  5],\n",
       "        [ 6,  7]],\n",
       "\n",
       "       [[ 8,  9],\n",
       "        [10, 11],\n",
       "        [12, 13],\n",
       "        [14, 15]],\n",
       "\n",
       "       [[16, 17],\n",
       "        [18, 19],\n",
       "        [20, 21],\n",
       "        [22, 23]]])"
      ]
     },
     "execution_count": 58,
     "metadata": {},
     "output_type": "execute_result"
    }
   ],
   "source": [
    "array_numeros3d "
   ]
  },
  {
   "cell_type": "code",
   "execution_count": 54,
   "metadata": {},
   "outputs": [
    {
     "data": {
      "text/plain": [
       "(1, 2)"
      ]
     },
     "execution_count": 54,
     "metadata": {},
     "output_type": "execute_result"
    }
   ],
   "source": [
    "primera_dim = np.array([\n",
    "    [[0,0]],\n",
    "    [[1,1]],\n",
    "    [[2,2]],\n",
    "])\n",
    "primera_dim.shape \n",
    "\n",
    "segunda_dim = np.array([\n",
    "    [[0,0],\n",
    "    [1,1],\n",
    "    [2,2],\n",
    "    [3,3]]\n",
    "])\n",
    "segunda_dim.shape\n",
    "\n",
    "tercera_dim = np.array([\n",
    "    [0,1]\n",
    "])\n",
    "tercera_dim.shape "
   ]
  },
  {
   "cell_type": "code",
   "execution_count": 55,
   "metadata": {},
   "outputs": [
    {
     "data": {
      "text/plain": [
       "array([[['Piñas', 'Manzana'],\n",
       "        ['Pera', 'Naranja'],\n",
       "        ['Pomelo', 'Uva'],\n",
       "        ['Naranja', 'Melo']],\n",
       "\n",
       "       [['Frutilla', 'Platano'],\n",
       "        ['Granadilla', 'Sandia'],\n",
       "        ['Melon', 'Papaya'],\n",
       "        ['Granadilla', 'Limon']],\n",
       "\n",
       "       [['Piña', 'Manzana'],\n",
       "        ['Pitajaya', 'Naranja'],\n",
       "        ['Lima', 'Uva'],\n",
       "        ['Naranja', 'Melo']]], dtype='<U10')"
      ]
     },
     "execution_count": 55,
     "metadata": {},
     "output_type": "execute_result"
    }
   ],
   "source": [
    "arreglo_fruta2[primera_dim, segunda_dim, tercera_dim] "
   ]
  },
  {
   "cell_type": "code",
   "execution_count": 59,
   "metadata": {},
   "outputs": [
    {
     "data": {
      "text/plain": [
       "array([[[ 0,  1],\n",
       "        [ 2,  3],\n",
       "        [ 4,  5],\n",
       "        [ 6,  7]],\n",
       "\n",
       "       [[ 8,  9],\n",
       "        [10, 11],\n",
       "        [12, 13],\n",
       "        [14, 15]],\n",
       "\n",
       "       [[16, 17],\n",
       "        [18, 19],\n",
       "        [20, 21],\n",
       "        [22, 23]]])"
      ]
     },
     "execution_count": 59,
     "metadata": {},
     "output_type": "execute_result"
    }
   ],
   "source": [
    "array_numeros3d[primera_dim, segunda_dim, tercera_dim] "
   ]
  },
  {
   "cell_type": "code",
   "execution_count": null,
   "metadata": {},
   "outputs": [],
   "source": []
  }
 ],
 "metadata": {
  "kernelspec": {
   "display_name": "Python 3",
   "language": "python",
   "name": "python3"
  },
  "language_info": {
   "codemirror_mode": {
    "name": "ipython",
    "version": 3
   },
   "file_extension": ".py",
   "mimetype": "text/x-python",
   "name": "python",
   "nbconvert_exporter": "python",
   "pygments_lexer": "ipython3",
   "version": "3.7.3"
  }
 },
 "nbformat": 4,
 "nbformat_minor": 2
}
